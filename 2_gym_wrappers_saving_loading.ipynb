{
 "cells": [
  {
   "cell_type": "markdown",
   "metadata": {},
   "source": [
    "# Stable Baselines3 Tutorial - Gym wrappers, saving and loading models\n",
    "- Gym wrappers for monitoring, normalization, limit number of steps, feature augmentation.\n",
    "- Save / load models.\n",
    "- Export models?"
   ]
  },
  {
   "cell_type": "code",
   "execution_count": null,
   "metadata": {},
   "outputs": [],
   "source": [
    "# Dependencies: install swig\n",
    "\n",
    "import gym\n",
    "from stable_baselines3 import A2C, SAC, PPO, TD3"
   ]
  },
  {
   "cell_type": "markdown",
   "metadata": {},
   "source": [
    "## Saving and loading"
   ]
  },
  {
   "cell_type": "code",
   "execution_count": null,
   "metadata": {},
   "outputs": [],
   "source": [
    "import os\n",
    "\n",
    "# Create dir to save models.\n",
    "save_dir = '/tmp/gym/'\n",
    "os.makedirs(save_dir, exist_ok=True)\n",
    "\n",
    "# Train and save a model.\n",
    "model = PPO('MlpPolicy', 'Pendulum-v0', verbose=0).learn(8000)"
   ]
  }
 ],
 "metadata": {
  "interpreter": {
   "hash": "fa8ddef7fe017c205a12249db0f3a795fe8e56e1fe12e11b503d179c21782f37"
  },
  "kernelspec": {
   "display_name": "Python 3.8.12 64-bit ('.venv': venv)",
   "name": "python3"
  },
  "language_info": {
   "codemirror_mode": {
    "name": "ipython",
    "version": 3
   },
   "file_extension": ".py",
   "mimetype": "text/x-python",
   "name": "python",
   "nbconvert_exporter": "python",
   "pygments_lexer": "ipython3",
   "version": "3.8.12"
  },
  "orig_nbformat": 4
 },
 "nbformat": 4,
 "nbformat_minor": 2
}
