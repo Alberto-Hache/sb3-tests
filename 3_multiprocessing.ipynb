{
 "cells": [
  {
   "cell_type": "markdown",
   "metadata": {},
   "source": [
    "# Stable Baselines3 Tutorial - Multiprocessing of environments\n",
    "- How to use vectorized environments (multiprocessing).\n",
    "- How to estimate the tradeoff between training speed and sample efficiency.\n",
    "- Compare performance of DummyVecEnv vs SubprocVecEnv."
   ]
  },
  {
   "cell_type": "markdown",
   "metadata": {},
   "source": [
    "## 1. About vectorized environments"
   ]
  },
  {
   "cell_type": "markdown",
   "metadata": {},
   "source": [
    "### Intro\n",
    "A method to stack multiple independent environments into one. Benefits:\n",
    "* Experience is collected more quickly.\n",
    "* More diverse experience (range of states), improving exploration.\n",
    "\n",
    "Types of vectorized environment:\n",
    "* SubprocVecEnv, running each environment in a separate process.\n",
    "* DummyVecEnv, running all environments sequentially on the same process.\n",
    "\n",
    "Tip: DummyVecEnv is faster in simple envs. due to communication delays in subprocesses."
   ]
  },
  {
   "cell_type": "markdown",
   "metadata": {},
   "source": [
    "### Dependencies and libraries"
   ]
  },
  {
   "cell_type": "code",
   "execution_count": 1,
   "metadata": {},
   "outputs": [],
   "source": [
    "# Dependencies: install swig\n",
    "\n",
    "import time\n",
    "import numpy as np\n",
    "import matplotlib.pyplot as plt\n",
    "%matplotlib inline\n",
    "\n",
    "import gym\n",
    "\n",
    "from stable_baselines3.common.vec_env import DummyVecEnv, SubprocVecEnv\n",
    "from stable_baselines3.common.utils import set_random_seed\n",
    "from stable_baselines3 import PPO, A2C\n",
    "\n",
    "# Evaluate function to use:\n",
    "from stable_baselines3.common.evaluation import evaluate_policy"
   ]
  },
  {
   "cell_type": "markdown",
   "metadata": {},
   "source": [
    "### Define an environment function\n",
    "The multiprocessing implementation requires a function to be called inside the process to instantiate a gym env."
   ]
  },
  {
   "cell_type": "code",
   "execution_count": 2,
   "metadata": {},
   "outputs": [],
   "source": [
    "def make_env(env_id, rank, seed=0):\n",
    "    \"\"\"\n",
    "    Utility function for multiprocessed env.\n",
    "\n",
    "    :param env_id: (str) the environment ID.\n",
    "    :param rank: (int) index of the subprocess.\n",
    "    :param seed: (int) the initial seed for RNG.\n",
    "    \"\"\"\n",
    "    def _init():\n",
    "        env = gym.make(env_id)\n",
    "        # Important: use a different seed for each environment.\n",
    "        env.seed(seed + rank)\n",
    "        return env\n",
    "    set_random_seed(seed)\n",
    "    return _init"
   ]
  },
  {
   "cell_type": "markdown",
   "metadata": {},
   "source": [
    "Stable-Baselines directly provides a helper function to create a vectorized environment:"
   ]
  },
  {
   "cell_type": "code",
   "execution_count": 3,
   "metadata": {},
   "outputs": [],
   "source": [
    "from stable_baselines3.common.env_util import make_vec_env"
   ]
  },
  {
   "cell_type": "markdown",
   "metadata": {},
   "source": [
    "## 2. Testing training speed vs sample efficienty"
   ]
  },
  {
   "cell_type": "markdown",
   "metadata": {},
   "source": [
    "### Define constants and environment to use"
   ]
  },
  {
   "cell_type": "code",
   "execution_count": 4,
   "metadata": {},
   "outputs": [],
   "source": [
    "# Environment to use:\n",
    "env_id = 'CartPole-v1'\n",
    "\n",
    "# The different number of processes that will be used:\n",
    "PROCESSES_TO_TEST = [1, 2, 4, 8, 16] \n",
    "NUM_EXPERIMENTS = 5 # RL algorithms can often be unstable, so we run several experiments (see https://arxiv.org/abs/1709.06560)\n",
    "TRAIN_STEPS = 5000\n",
    "# Number of episodes for evaluation\n",
    "EVAL_EPS = 20\n",
    "ALGO = A2C\n",
    "\n",
    "# We will create one environment to evaluate the agent on.\n",
    "from stable_baselines3.common.monitor import Monitor\n",
    "eval_env = Monitor(gym.make(env_id)) # AH: Wrapped with Monitor to prevent erroneous metrics."
   ]
  },
  {
   "cell_type": "markdown",
   "metadata": {},
   "source": [
    "### Training a model with different numbers of processes"
   ]
  },
  {
   "cell_type": "code",
   "execution_count": 5,
   "metadata": {},
   "outputs": [
    {
     "name": "stdout",
     "output_type": "stream",
     "text": [
      "Running for n_procs = 1\n",
      "Running for n_procs = 2\n",
      "Running for n_procs = 4\n",
      "Running for n_procs = 8\n",
      "Running for n_procs = 16\n"
     ]
    }
   ],
   "source": [
    "reward_averages = []\n",
    "reward_std = []\n",
    "training_times = []\n",
    "total_procs = 0\n",
    "for n_procs in PROCESSES_TO_TEST:\n",
    "    total_procs += n_procs\n",
    "    print(f'Running for n_procs = {n_procs}')\n",
    "    if n_procs == 1:\n",
    "        # No need for multiprocessing.\n",
    "        train_env = DummyVecEnv(\n",
    "            [lambda: gym.make(env_id)]\n",
    "        )\n",
    "    else:\n",
    "        # Use 'fork' method for launchint the processes (see doc.).\n",
    "        # This is equivalent to make_vec_env(env_id, n_envs=n_procs, vec_env_cls=SubprocVecEnv, vec_env_kwargs=dict(start_method='fork'))\n",
    "        train_env = SubprocVecEnv(\n",
    "            [make_env(env_id, i+total_procs) for i in range(n_procs)],\n",
    "            start_method='fork'\n",
    "        )\n",
    "    rewards = []\n",
    "    times = []\n",
    "\n",
    "    for experiment in range(NUM_EXPERIMENTS):\n",
    "        # It's recommended to run several experiments due to variability in results.\n",
    "        train_env.reset()\n",
    "        model = ALGO('MlpPolicy', train_env, verbose=0)\n",
    "        start = time.time()\n",
    "        model.learn(total_timesteps=TRAIN_STEPS)\n",
    "        time_used = time.time() - start\n",
    "        times.append(time_used)\n",
    "        # Evaluate the trained model on the evaluation env.\n",
    "        mean_reward, _ = evaluate_policy(model, eval_env, n_eval_episodes=EVAL_EPS)\n",
    "        rewards.append(mean_reward)\n",
    "        \n",
    "    # Important: Close the subprocesses to prevent memory issues!\n",
    "    train_env.close()\n",
    "    reward_averages.append(np.mean(rewards))\n",
    "    reward_std.append(np.std(rewards))\n",
    "    training_times.append(np.mean(times))"
   ]
  },
  {
   "cell_type": "markdown",
   "metadata": {},
   "source": [
    "### Results"
   ]
  },
  {
   "cell_type": "code",
   "execution_count": 6,
   "metadata": {},
   "outputs": [
    {
     "data": {
      "image/png": "[encoded data removed]",
      "text/plain": [
       "<Figure size 864x288 with 3 Axes>"
      ]
     },
     "metadata": {
      "needs_background": "light"
     },
     "output_type": "display_data"
    }
   ],
   "source": [
    "training_steps_per_second = [TRAIN_STEPS / t for t in training_times]\n",
    "\n",
    "figure = plt.figure(figsize=(12, 4))\n",
    "plt.subplots_adjust(wspace=0.3)\n",
    "\n",
    "plt.subplot(1, 3, 1)\n",
    "plt.errorbar(PROCESSES_TO_TEST, reward_averages, yerr=reward_std, capsize=2)\n",
    "plt.xlabel('Processes')\n",
    "plt.xticks(np.arange(17), ['', '1', '2', '', '4', '', '', '', '8', '', '', '', '', '', '', '', '16'])\n",
    "plt.ylabel('Average return')\n",
    "\n",
    "plt.subplot(1, 3, 2)\n",
    "plt.bar(range(len(PROCESSES_TO_TEST)), training_times)\n",
    "plt.xticks(range(len(PROCESSES_TO_TEST)), PROCESSES_TO_TEST)\n",
    "plt.xlabel('Processes')\n",
    "_ = plt.ylabel('Training time')\n",
    "\n",
    "plt.subplot(1, 3, 3)\n",
    "plt.bar(range(len(PROCESSES_TO_TEST)), training_steps_per_second)\n",
    "plt.xticks(range(len(PROCESSES_TO_TEST)), PROCESSES_TO_TEST)\n",
    "plt.xlabel('Processes')\n",
    "_ = plt.ylabel('Training steps per second')"
   ]
  },
  {
   "cell_type": "markdown",
   "metadata": {},
   "source": [
    "There is a trade-off between sample efficiency, diverse experience and wall clock time:\n",
    "- Using more processes requires less total training time (< 1 sec with 16 processes).\n",
    "- However the highest performance (avg. reward) was obtained with only 4 processes.\n",
    "- Top steps / sec (≈6,000) is reached with 16 processes."
   ]
  },
  {
   "cell_type": "markdown",
   "metadata": {},
   "source": [
    "### Getting the best performance in a fixed amount of time\n",
    "(E.g. 15 seconds per experiment.)"
   ]
  },
  {
   "cell_type": "code",
   "execution_count": 7,
   "metadata": {},
   "outputs": [
    {
     "name": "stdout",
     "output_type": "stream",
     "text": [
      "Running for n_procs = 1 for steps = 12844\n",
      "Running for n_procs = 2 for steps = 18846\n",
      "Running for n_procs = 4 for steps = 36354\n",
      "Running for n_procs = 8 for steps = 63706\n",
      "Running for n_procs = 16 for steps = 91862\n"
     ]
    }
   ],
   "source": [
    "SECONDS_PER_EXPERIMENT = 15\n",
    "# Estimate how many steps each experiment should run based on previous metric.\n",
    "steps_per_experiment = [int(SECONDS_PER_EXPERIMENT * fps) for fps in training_steps_per_second]\n",
    "\n",
    "reward_averages = []\n",
    "reward_std = []\n",
    "training_times = []\n",
    "total_procs = 0\n",
    "\n",
    "for n_procs, train_steps in zip(PROCESSES_TO_TEST, steps_per_experiment):\n",
    "    total_procs += n_procs\n",
    "    print(f'Running for n_procs = {n_procs} for steps = {train_steps}')\n",
    "    if n_procs == 1:\n",
    "        # No need for multiprocessing.\n",
    "        train_env = DummyVecEnv(\n",
    "            [lambda: gym.make(env_id)]\n",
    "        )\n",
    "    else:\n",
    "        # Use 'fork' method for launchint the processes (see doc.).\n",
    "        # This is equivalent to make_vec_env(env_id, n_envs=n_procs, vec_env_cls=SubprocVecEnv, vec_env_kwargs=dict(start_method='fork'))\n",
    "        train_env = SubprocVecEnv(\n",
    "            [make_env(env_id, i+total_procs) for i in range(n_procs)],\n",
    "            start_method='spawn' # NOTE the different argument here.\n",
    "            # Alternatively, you can use a DummyVecEnv if the communication delays is the bottleneck\n",
    "            # train_env = DummyVecEnv([make_env(env_id, i+total_procs) for i in range(n_procs)])\n",
    "        )\n",
    "    rewards = []\n",
    "    times = []\n",
    "\n",
    "    for experiment in range(NUM_EXPERIMENTS):\n",
    "        # It's recommended to run several experiments due to variability in results.\n",
    "        train_env.reset()\n",
    "        model = ALGO('MlpPolicy', train_env, verbose=0)\n",
    "        start = time.time()\n",
    "        model.learn(total_timesteps=train_steps) # NOTE: not the constant, but the iterator.\n",
    "        time_used = time.time() - start\n",
    "        times.append(time_used)\n",
    "        # Evaluate the trained model on the evaluation env.\n",
    "        mean_reward, _ = evaluate_policy(model, eval_env, n_eval_episodes=EVAL_EPS)\n",
    "        rewards.append(mean_reward)\n",
    "        \n",
    "    # Important: Close the subprocesses to prevent memory issues!\n",
    "    train_env.close()\n",
    "    reward_averages.append(np.mean(rewards))\n",
    "    reward_std.append(np.std(rewards))\n",
    "    training_times.append(np.mean(times))"
   ]
  },
  {
   "cell_type": "markdown",
   "metadata": {},
   "source": [
    "### Results"
   ]
  },
  {
   "cell_type": "code",
   "execution_count": 8,
   "metadata": {},
   "outputs": [
    {
     "data": {
      "text/plain": [
       "Text(0, 0.5, 'Training steps per second')"
      ]
     },
     "execution_count": 8,
     "metadata": {},
     "output_type": "execute_result"
    },
    {
     "data": {
      "image/png": "[encoded data removed]",
      "text/plain": [
       "<Figure size 864x288 with 3 Axes>"
      ]
     },
     "metadata": {
      "needs_background": "light"
     },
     "output_type": "display_data"
    }
   ],
   "source": [
    "training_steps_per_second = [s / t for s,t in zip(steps_per_experiment, training_times)]\n",
    "\n",
    "plt.figure(figsize=(12, 4))\n",
    "plt.subplots_adjust(wspace=0.3)\n",
    "\n",
    "plt.subplot(1,3,1)\n",
    "plt.errorbar(PROCESSES_TO_TEST, reward_averages, yerr=reward_std, capsize=2, c='k', marker='o')\n",
    "plt.xlabel('Processes')\n",
    "plt.xticks(np.arange(17), ['', '1', '2', '', '4', '', '', '', '8', '', '', '', '', '', '', '', '16'])\n",
    "plt.ylabel('Average return')\n",
    "\n",
    "plt.subplot(1,3,2)\n",
    "plt.bar(range(len(PROCESSES_TO_TEST)), training_times)\n",
    "plt.xticks(range(len(PROCESSES_TO_TEST)),PROCESSES_TO_TEST)\n",
    "plt.xlabel('Processes')\n",
    "plt.ylabel('Actual training time')\n",
    "\n",
    "plt.subplot(1,3,3)\n",
    "plt.bar(range(len(PROCESSES_TO_TEST)), training_steps_per_second)\n",
    "plt.xticks(range(len(PROCESSES_TO_TEST)),PROCESSES_TO_TEST)\n",
    "plt.xlabel('Processes')\n",
    "plt.ylabel('Training steps per second')"
   ]
  },
  {
   "cell_type": "markdown",
   "metadata": {},
   "source": [
    "Results show that:\n",
    "- 2 processes reach maximum performance (avg. reward) in the same time.\n",
    "- 16 processes may get better performance than 1, 4 and 8 processes (AH: why?).\n",
    "\n",
    "Note: previous tests obtained higher avg. return with 4 processes."
   ]
  },
  {
   "cell_type": "markdown",
   "metadata": {},
   "source": [
    "## 3. DummyVecEnv vs SubprocVecEnv"
   ]
  },
  {
   "cell_type": "code",
   "execution_count": 9,
   "metadata": {},
   "outputs": [
    {
     "name": "stdout",
     "output_type": "stream",
     "text": [
      "Running for n_procs = 1\n",
      "Running for n_procs = 2\n",
      "Running for n_procs = 4\n",
      "Running for n_procs = 8\n",
      "Running for n_procs = 16\n"
     ]
    }
   ],
   "source": [
    "reward_averages = []\n",
    "reward_std = []\n",
    "training_times = []\n",
    "total_procs = 0\n",
    "for n_procs in PROCESSES_TO_TEST:\n",
    "    total_procs += n_procs\n",
    "    print(f'Running for n_procs = {n_procs}')\n",
    "    # Here we are using only one process even for n_env > 1\n",
    "    # Equivalent to train_env = DummyVecEnv([make_env(env_id, i+total_procs) for i in range(n_procs)])\n",
    "    train_env = make_vec_env(env_id, n_envs=n_procs) # By default it uses DummyVecEnv.\n",
    "    rewards = []\n",
    "    times = []\n",
    "\n",
    "    for experiment in range(NUM_EXPERIMENTS):\n",
    "        # It's recommended to run several experiments due to variability in results.\n",
    "        train_env.reset()\n",
    "        model = ALGO('MlpPolicy', train_env, verbose=0)\n",
    "        start = time.time()\n",
    "        model.learn(total_timesteps=TRAIN_STEPS)\n",
    "        time_used = time.time() - start\n",
    "        times.append(time_used)\n",
    "        # Evaluate the trained model on the evaluation env.\n",
    "        mean_reward, _ = evaluate_policy(model, eval_env, n_eval_episodes=EVAL_EPS)\n",
    "        rewards.append(mean_reward)\n",
    "        \n",
    "    # Important: Close the subprocesses to prevent memory issues!\n",
    "    train_env.close()\n",
    "    reward_averages.append(np.mean(rewards))\n",
    "    reward_std.append(np.std(rewards))\n",
    "    training_times.append(np.mean(times))"
   ]
  },
  {
   "cell_type": "markdown",
   "metadata": {},
   "source": [
    "### Results"
   ]
  },
  {
   "cell_type": "code",
   "execution_count": 12,
   "metadata": {},
   "outputs": [
    {
     "data": {
      "text/plain": [
       "Text(0, 0.5, 'Training steps per second')"
      ]
     },
     "execution_count": 12,
     "metadata": {},
     "output_type": "execute_result"
    },
    {
     "data": {
      "image/png": "[encoded data removed]",
      "text/plain": [
       "<Figure size 864x288 with 3 Axes>"
      ]
     },
     "metadata": {
      "needs_background": "light"
     },
     "output_type": "display_data"
    }
   ],
   "source": [
    "training_steps_per_second = [s / t for s,t in zip(steps_per_experiment, training_times)]\n",
    "\n",
    "plt.figure(figsize=(12, 4))\n",
    "plt.subplots_adjust(wspace=0.4)\n",
    "\n",
    "plt.subplot(1,3,1)\n",
    "plt.errorbar(PROCESSES_TO_TEST, reward_averages, yerr=reward_std, capsize=2, c='k', marker='o')\n",
    "plt.xlabel('Processes')\n",
    "plt.xticks(np.arange(17), ['', '1', '2', '', '4', '', '', '', '8', '', '', '', '', '', '', '', '16'])\n",
    "plt.ylabel('Average return')\n",
    "\n",
    "plt.subplot(1,3,2)\n",
    "plt.bar(range(len(PROCESSES_TO_TEST)), training_times)\n",
    "plt.xticks(range(len(PROCESSES_TO_TEST)),PROCESSES_TO_TEST)\n",
    "plt.xlabel('Processes')\n",
    "plt.ylabel('Training time per exp.')\n",
    "\n",
    "plt.subplot(1,3,3)\n",
    "plt.bar(range(len(PROCESSES_TO_TEST)), training_steps_per_second)\n",
    "plt.xticks(range(len(PROCESSES_TO_TEST)),PROCESSES_TO_TEST)\n",
    "plt.xlabel('Processes')\n",
    "plt.ylabel('Training steps per second')"
   ]
  },
  {
   "cell_type": "markdown",
   "metadata": {},
   "source": [
    "Results show that:\n",
    "- SubprocVecEnv reached top ≈6,000 steps/sec (with 16 processes).\n",
    "- But DummyVecEnv reached 175,000 steps/sec with the same 16 (fake) processes!\n",
    "- The reason is that in simple environments the bottleneck comes from from the synchronization and communication between processes."
   ]
  }
 ],
 "metadata": {
  "interpreter": {
   "hash": "fa8ddef7fe017c205a12249db0f3a795fe8e56e1fe12e11b503d179c21782f37"
  },
  "kernelspec": {
   "display_name": "Python 3.8.12 64-bit ('.venv': venv)",
   "language": "python",
   "name": "python3"
  },
  "language_info": {
   "codemirror_mode": {
    "name": "ipython",
    "version": 3
   },
   "file_extension": ".py",
   "mimetype": "text/x-python",
   "name": "python",
   "nbconvert_exporter": "python",
   "pygments_lexer": "ipython3",
   "version": "3.9.7"
  },
  "orig_nbformat": 4
 },
 "nbformat": 4,
 "nbformat_minor": 2
}
